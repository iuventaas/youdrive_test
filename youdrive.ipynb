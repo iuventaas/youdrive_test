{
 "cells": [
  {
   "cell_type": "code",
   "execution_count": 1595,
   "metadata": {},
   "outputs": [],
   "source": [
    "import requests, scipy, numpy as np, matplotlib.pylab\n",
    "import urllib, json\n",
    "from pandas.io.json import json_normalize\n",
    "import pandas as pd\n",
    "import matplotlib.pyplot as plt\n"
   ]
  },
  {
   "cell_type": "code",
   "execution_count": 1596,
   "metadata": {
    "scrolled": true
   },
   "outputs": [],
   "source": [
    "with urllib.request.urlopen(\"http://youdrive.today/info\") as url:\n",
    "    data = json.loads(url.read().decode())"
   ]
  },
  {
   "cell_type": "code",
   "execution_count": 1666,
   "metadata": {
    "scrolled": true
   },
   "outputs": [],
   "source": [
    "area = data['area']\n",
    "areas = data['areas']\n",
    "cars = pd.DataFrame(data['cars'])\n",
    "area_groups = data['area_groups']\n"
   ]
  },
  {
   "cell_type": "code",
   "execution_count": 1598,
   "metadata": {},
   "outputs": [],
   "source": [
    " def inPolygon(x, y, a):\n",
    "    c=0\n",
    "    for i in range(len(a)):\n",
    "        if (((a[i]['longitude']<=y and y<a[i-1]['longitude']) or (a[i-1]['longitude']<=y and y<a[i]['longitude'])) and \\\n",
    "            (x > (a[i-1]['latitude'] - a[i]['latitude']) * (y - a[i]['longitude']) / (a[i-1]['longitude'] - a[i]['longitude']) + a[i]['latitude'])): c = 1 - c    \n",
    "    return c"
   ]
  },
  {
   "cell_type": "code",
   "execution_count": 1599,
   "metadata": {},
   "outputs": [],
   "source": [
    "res_areas = {}\n",
    "count_areas = {} \n",
    "out = 0\n",
    "for i in range(len(cars)):\n",
    "    inside = False\n",
    "    for a in areas:\n",
    "        if a not in res_areas:\n",
    "                res_areas[a] = {}\n",
    "                count_areas[a] = 0   \n",
    "        if inPolygon(cars['latitude'][i], cars['longitude'][i], areas[a]) == 1:\n",
    "            inside = True\n",
    "            count_areas[a] += 1\n",
    "            if cars['model'][i] in res_areas[a]:\n",
    "                res_areas[a][cars['model'][i]] += 1\n",
    "            else: \n",
    "                res_areas[a][cars['model'][i]] = 1\n",
    "            break\n",
    "    if not inside:\n",
    "        out += 1\n",
    "        \n",
    "        \n"
   ]
  },
  {
   "cell_type": "code",
   "execution_count": 1600,
   "metadata": {},
   "outputs": [],
   "source": [
    "res_cities = {}\n",
    "count_cities = {}\n",
    "for city in area_groups:\n",
    "    if 'YouDrive' in city:\n",
    "        break\n",
    "    if city not in res_cities:\n",
    "        res_cities[city] = {}\n",
    "        count_cities[city] = 0\n",
    "    for a in area_groups[city]:\n",
    "        if a in res_areas:\n",
    "            count_cities[city] += count_areas[a]\n",
    "            for model in res_areas[a]:\n",
    "                if model in res_cities[city]:\n",
    "                    res_cities[city][model] += res_areas[a][model]\n",
    "                else:\n",
    "                    res_cities[city][model] = res_areas[a][model]"
   ]
  },
  {
   "cell_type": "code",
   "execution_count": 1601,
   "metadata": {},
   "outputs": [],
   "source": [
    "def get_max(res):\n",
    "    max_cars = {}\n",
    "    for i in res:\n",
    "        if len(res[i]) == 0:\n",
    "            continue\n",
    "        max_cars[i] = {}\n",
    "        maxv = max(res[i].values())\n",
    "        for j in res[i]:\n",
    "            if res[i][j] == maxv:\n",
    "                max_cars[i][j] = res[i][j]\n",
    "    return max_cars"
   ]
  },
  {
   "cell_type": "markdown",
   "metadata": {},
   "source": [
    "1) информация об автопарке"
   ]
  },
  {
   "cell_type": "code",
   "execution_count": 1602,
   "metadata": {},
   "outputs": [
    {
     "data": {
      "text/plain": [
       "model\n",
       "Nissan Qashqai           1936\n",
       "VW Polo                   362\n",
       "smart fortwo              205\n",
       "Kia Rio                   184\n",
       "Hyundai Creta              95\n",
       "Kia Rio X-line             82\n",
       "smart forfour              66\n",
       "MINI Cooper                63\n",
       "Hyundai Solaris            59\n",
       "fortwo turbo               47\n",
       "Kia Soul                   45\n",
       "forfour turbo              40\n",
       "BMW Active Tourer          39\n",
       "Mercedes A-class           29\n",
       "Nissan X-Trail             26\n",
       "Kia Picanto                20\n",
       "Renault Kaptur              6\n",
       "Electric scooter lite       6\n",
       "Renault Arkana              5\n",
       "bmw i3                      1\n",
       "forfour soft-top            1\n",
       "Mercedes A200               1\n",
       "dtype: int64"
      ]
     },
     "execution_count": 1602,
     "metadata": {},
     "output_type": "execute_result"
    }
   ],
   "source": [
    "cars.groupby(['model']).size().sort_values(ascending=False)"
   ]
  },
  {
   "cell_type": "markdown",
   "metadata": {},
   "source": [
    "Наиболее частая модель в автопарке -- Nissan Qashqai, составляет:"
   ]
  },
  {
   "cell_type": "code",
   "execution_count": 1603,
   "metadata": {},
   "outputs": [
    {
     "name": "stdout",
     "output_type": "stream",
     "text": [
      "58.348402652200114%\n"
     ]
    }
   ],
   "source": [
    "print(str(len(cars[cars.model == 'Nissan Qashqai'])/len(cars) *100) + '%')"
   ]
  },
  {
   "cell_type": "code",
   "execution_count": 1604,
   "metadata": {},
   "outputs": [
    {
     "name": "stdout",
     "output_type": "stream",
     "text": [
      "Наиболее частые машины по районам:\n"
     ]
    },
    {
     "data": {
      "text/plain": [
       "{'MKAD': {'Nissan Qashqai': 645},\n",
       " 'Himki': {'Nissan Qashqai': 1, 'VW Polo': 1},\n",
       " 'Kommunarka': {'Nissan Qashqai': 1},\n",
       " 'Odintsovo_main': {'Nissan Qashqai': 6},\n",
       " 'Moskovsky': {'Nissan Qashqai': 1, 'smart forfour': 1},\n",
       " 'BMW_BD': {'smart fortwo': 1},\n",
       " 'Mega_BD1': {'Nissan Qashqai': 1},\n",
       " 'Pyhtino_SP': {'Nissan Qashqai': 1,\n",
       "  'Kia Rio': 1,\n",
       "  'VW Polo': 1,\n",
       "  'smart fortwo': 1},\n",
       " 'Novoperedelkino': {'smart fortwo': 3},\n",
       " 'Solntsevo': {'Nissan Qashqai': 1},\n",
       " 'Odintsovo_soyuz': {'Nissan Qashqai': 2},\n",
       " 'Odintsovo_Sosnovaya': {'Nissan Qashqai': 1},\n",
       " 'Altufievo_CC': {'Nissan Qashqai': 1},\n",
       " 'KAD': {'Nissan Qashqai': 1178},\n",
       " 'Rybackoe': {'Nissan Qashqai': 6},\n",
       " 'Devyatkino': {'Nissan Qashqai': 3},\n",
       " 'Murino': {'Nissan Qashqai': 2},\n",
       " 'Shushary': {'Nissan Qashqai': 8},\n",
       " 'Pulkovo3_Lenta': {'Nissan Qashqai': 13},\n",
       " 'MegaParnas': {'Nissan Qashqai': 6},\n",
       " 'Lenta-Krauta': {'Nissan Qashqai': 9},\n",
       " 'Кронштадт (Обводный канал)': {'VW Polo': 3},\n",
       " 'Кронштадт (Остров Котлин)': {'Nissan Qashqai': 1},\n",
       " 'МО \"г. Ломоносов\"': {'Nissan Qashqai': 4},\n",
       " 'Петродворцовый (МО \"г. Петергоф\")': {'Nissan Qashqai': 3},\n",
       " 'Петродворцовый (Санкт-Петербургский проспект)': {'Nissan Qashqai': 9},\n",
       " 'Горелово (магазины)': {'Nissan Qashqai': 4},\n",
       " 'Горелово (жилой комплекс)': {'Nissan Qashqai': 2},\n",
       " 'Курортный (Дубковское шоссе)': {'Kia Rio': 1, 'VW Polo': 1},\n",
       " 'Курортный (Волгоградская улица)': {'Nissan Qashqai': 1, 'Hyundai Creta': 1},\n",
       " 'sochiFreeZone': {'Kia Rio X-line': 5},\n",
       " 'sochiPayZone': {'Kia Rio X-line': 3},\n",
       " 'alpiiskoe': {'Kia Picanto': 2, 'smart fortwo': 2},\n",
       " 'olimpiiskaya': {'Hyundai Creta': 3},\n",
       " 'kamenka': {'smart fortwo': 1},\n",
       " 'laura': {'Nissan Qashqai': 1},\n",
       " 'sochiKP': {'Kia Rio X-line': 1},\n",
       " 'estoSadok': {'smart fortwo': 1,\n",
       "  'Hyundai Creta': 1,\n",
       "  'Nissan Qashqai': 1,\n",
       "  'Kia Soul': 1},\n",
       " 'sochi7': {'smart forfour': 1},\n",
       " 'sochi8': {'Kia Rio X-line': 8},\n",
       " 'sochi9': {'Kia Rio X-line': 20},\n",
       " 'sochi10': {'smart fortwo': 4},\n",
       " 'sochi11': {'Nissan Qashqai': 4},\n",
       " 'sochi12': {'Kia Rio X-line': 4},\n",
       " 'sochi14': {'Kia Rio X-line': 1, 'Nissan X-Trail': 1},\n",
       " 'Kaskad': {'Kia Rio X-line': 1},\n",
       " 'mega': {'Kia Rio X-line': 1},\n",
       " 'muranova': {'Kia Rio X-line': 1},\n",
       " 'pyshma': {'Kia Rio X-line': 1},\n",
       " 'akadem': {'Kia Rio X-line': 1},\n",
       " 'z1': {'Kia Rio X-line': 7},\n",
       " 'z2': {'smart forfour': 21},\n",
       " 'leroy_east': {'Hyundai Creta': 3},\n",
       " 'novomoskovsky': {'Kia Rio X-line': 2}}"
      ]
     },
     "execution_count": 1604,
     "metadata": {},
     "output_type": "execute_result"
    }
   ],
   "source": [
    "print('Наиболее частые машины по районам:')\n",
    "get_max(res_areas)"
   ]
  },
  {
   "cell_type": "code",
   "execution_count": 1605,
   "metadata": {
    "scrolled": true
   },
   "outputs": [
    {
     "name": "stdout",
     "output_type": "stream",
     "text": [
      "Наиболее частые машины по городам:\n"
     ]
    },
    {
     "data": {
      "text/plain": [
       "{'moscow': {'Nissan Qashqai': 662},\n",
       " 'saint_petersburg': {'Nissan Qashqai': 1251},\n",
       " 'sochi': {'Kia Rio X-line': 50},\n",
       " 'ekaterinburg': {'Kia Rio X-line': 30}}"
      ]
     },
     "execution_count": 1605,
     "metadata": {},
     "output_type": "execute_result"
    }
   ],
   "source": [
    "print('Наиболее частые машины по городам:')\n",
    "get_max(res_cities)"
   ]
  },
  {
   "cell_type": "markdown",
   "metadata": {},
   "source": [
    "Почти половина автопарка располагается в Питере:"
   ]
  },
  {
   "cell_type": "code",
   "execution_count": 1606,
   "metadata": {},
   "outputs": [
    {
     "data": {
      "text/plain": [
       "{'moscow': 1061, 'saint_petersburg': 1951, 'sochi': 180, 'ekaterinburg': 99}"
      ]
     },
     "execution_count": 1606,
     "metadata": {},
     "output_type": "execute_result"
    }
   ],
   "source": [
    "count_cities"
   ]
  },
  {
   "cell_type": "code",
   "execution_count": 1607,
   "metadata": {},
   "outputs": [
    {
     "name": "stdout",
     "output_type": "stream",
     "text": [
      "moscow: \n",
      "   Nissan Qashqai: 62.39396795475967%\n",
      "saint_petersburg: \n",
      "   Nissan Qashqai: 64.12096360840594%\n",
      "sochi: \n",
      "   Kia Rio X-line: 27.77777777777778%\n",
      "ekaterinburg: \n",
      "   Kia Rio X-line: 30.303030303030305%\n"
     ]
    }
   ],
   "source": [
    "m = get_max(res_cities)\n",
    "for i in m:\n",
    "    print(i + ': ')\n",
    "    for car in m[i]:\n",
    "        print('   '+ car + ': ' + str(res_cities[i][car]/count_cities[i] * 100) + '%')\n",
    "\n",
    "    "
   ]
  },
  {
   "cell_type": "markdown",
   "metadata": {},
   "source": [
    "3) \n",
    "В данный момент в режиме передача:"
   ]
  },
  {
   "cell_type": "code",
   "execution_count": 1892,
   "metadata": {},
   "outputs": [
    {
     "name": "stdout",
     "output_type": "stream",
     "text": [
      "27 машин\n"
     ]
    }
   ],
   "source": [
    "print(str(out) + ' машин')"
   ]
  },
  {
   "cell_type": "markdown",
   "metadata": {},
   "source": [
    "Чтобы понять, нужно ли расширять зону, можно отслеживать частоту появления машин вне зоны завершения в течение недели. Далее можно искать наиболее близкие точки и по ним составлять новые зоны (или расширять старые), если частота появления машин в них достаточно высока.\n",
    "Можно также добавлять новые зоны для конкретных моделей."
   ]
  },
  {
   "cell_type": "code",
   "execution_count": 1877,
   "metadata": {},
   "outputs": [],
   "source": [
    "def group(mass):\n",
    "    size = int(np.round(len(mass)/5))+1\n",
    "    nmass = [0]*size\n",
    "    for i in range(len(mass)):\n",
    "        nmass[i//5] += mass[i]\n",
    "    return nmass"
   ]
  },
  {
   "cell_type": "code",
   "execution_count": 1894,
   "metadata": {},
   "outputs": [
    {
     "data": {
      "image/png": "[encoded data removed]",
      "text/plain": [
       "<Figure size 432x288 with 1 Axes>"
      ]
     },
     "metadata": {
      "needs_background": "light"
     },
     "output_type": "display_data"
    }
   ],
   "source": [
    "ob_freq = numpy.bincount(cars['fuel'])\n",
    "matplotlib.pylab.bar(range(len(ob_freq)), ob_freq)\n",
    "mean = cars['fuel'].mean()"
   ]
  },
  {
   "cell_type": "code",
   "execution_count": 1895,
   "metadata": {},
   "outputs": [
    {
     "data": {
      "text/plain": [
       "<BarContainer object of 21 artists>"
      ]
     },
     "execution_count": 1895,
     "metadata": {},
     "output_type": "execute_result"
    },
    {
     "data": {
      "image/png": "[encoded data removed]",
      "text/plain": [
       "<Figure size 432x288 with 1 Axes>"
      ]
     },
     "metadata": {
      "needs_background": "light"
     },
     "output_type": "display_data"
    }
   ],
   "source": [
    "n_freq = group(ob_freq[1:])\n",
    "matplotlib.pylab.bar(range(len(n_freq)), n_freq)"
   ]
  },
  {
   "cell_type": "markdown",
   "metadata": {},
   "source": [
    "2) \n",
    "Визуально рапсределение похоже на усеченное нормальное. Поэтому дополняю выборку так, чтобы можно было првоести тест на нормальное распределение."
   ]
  },
  {
   "cell_type": "code",
   "execution_count": 1896,
   "metadata": {},
   "outputs": [
    {
     "data": {
      "text/plain": [
       "<BarContainer object of 164 artists>"
      ]
     },
     "execution_count": 1896,
     "metadata": {},
     "output_type": "execute_result"
    },
    {
     "data": {
      "image/png": "[encoded data removed]",
      "text/plain": [
       "<Figure size 432x288 with 1 Axes>"
      ]
     },
     "metadata": {
      "needs_background": "light"
     },
     "output_type": "display_data"
    }
   ],
   "source": [
    "ecars = []\n",
    "for car in cars['fuel']:\n",
    "    if car < np.round(mean):\n",
    "        ecars.append(np.round(mean) + (100 - car))\n",
    "        \n",
    "ncars = np.append(cars['fuel'], ecars)\n",
    "ncars = ncars.astype(int)\n",
    "ob_freq2 = numpy.bincount(ncars)\n",
    "matplotlib.pylab.bar(range(len(ob_freq2)), ob_freq2)"
   ]
  },
  {
   "cell_type": "code",
   "execution_count": 1897,
   "metadata": {},
   "outputs": [
    {
     "data": {
      "text/plain": [
       "<BarContainer object of 34 artists>"
      ]
     },
     "execution_count": 1897,
     "metadata": {},
     "output_type": "execute_result"
    },
    {
     "data": {
      "image/png": "[encoded data removed]",
      "text/plain": [
       "<Figure size 432x288 with 1 Axes>"
      ]
     },
     "metadata": {
      "needs_background": "light"
     },
     "output_type": "display_data"
    }
   ],
   "source": [
    "n2_freq = group(ob_freq2[1:])\n",
    "matplotlib.pylab.bar(range(len(n2_freq)), n2_freq)"
   ]
  },
  {
   "cell_type": "code",
   "execution_count": 1900,
   "metadata": {},
   "outputs": [
    {
     "data": {
      "text/plain": [
       "NormaltestResult(statistic=4.456882612780456, pvalue=0.10769616470215522)"
      ]
     },
     "execution_count": 1900,
     "metadata": {},
     "output_type": "execute_result"
    }
   ],
   "source": [
    "scipy.stats.normaltest(ncars)"
   ]
  },
  {
   "cell_type": "markdown",
   "metadata": {},
   "source": [
    "В тесте получено значение pvalue=0.1, графики достаточно похожи на нормальные, можно заключить, что уровень топлива -- нормально распределенная величина."
   ]
  },
  {
   "cell_type": "markdown",
   "metadata": {},
   "source": [
    "4) \n",
    "По имеющимся данным можно узнать об автопарке, системе дисконтирования, зонах работы.\n",
    "Если периодически сохранять данные с сайта, можно узнать информацию о продолжительности, частоте поездок, узнать время наибольшей загрузки автопарка. Данную инфоримацию можно соответсвенно извлечь для каждой зоны."
   ]
  }
 ],
 "metadata": {
  "kernelspec": {
   "display_name": "Python 3",
   "language": "python",
   "name": "python3"
  },
  "language_info": {
   "codemirror_mode": {
    "name": "ipython",
    "version": 3
   },
   "file_extension": ".py",
   "mimetype": "text/x-python",
   "name": "python",
   "nbconvert_exporter": "python",
   "pygments_lexer": "ipython3",
   "version": "3.7.3"
  }
 },
 "nbformat": 4,
 "nbformat_minor": 4
}
